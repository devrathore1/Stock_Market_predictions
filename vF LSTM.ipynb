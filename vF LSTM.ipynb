{
 "cells": [
  {
   "cell_type": "code",
   "execution_count": 1,
   "metadata": {
    "id": "GvqtUYFlx4e6"
   },
   "outputs": [],
   "source": [
    "from pathlib import Path\n",
    "\n",
    "import numpy as np\n",
    "import pandas as pd\n",
    "import math\n",
    "import pandas_datareader as web\n",
    "from sklearn.preprocessing import MinMaxScaler\n",
    "from keras.models import Sequential\n",
    "from keras.layers import Dense, LSTM\n",
    "import matplotlib.pyplot as plt\n",
    "\n",
    "\n",
    "pd.set_option(\"display.max_columns\", 100)"
   ]
  },
  {
   "cell_type": "markdown",
   "metadata": {
    "id": "at29Kb3xqvHT"
   },
   "source": []
  },
  {
   "cell_type": "markdown",
   "metadata": {
    "id": "Mn6GuDxiquoX"
   },
   "source": [
    "LSTM "
   ]
  },
  {
   "cell_type": "code",
   "execution_count": 2,
   "metadata": {
    "id": "RuXjpKzdx8MZ"
   },
   "outputs": [],
   "source": [
    "DATA_PATH = Path.cwd().parent / \"data\" / \"final\" / \"public\""
   ]
  },
  {
   "cell_type": "code",
   "execution_count": 3,
   "metadata": {
    "id": "m1mJNsDmx8PY"
   },
   "outputs": [],
   "source": [
    "#Import the test and get stock information\n",
    "df = pd.read_excel(\n",
    "     r'C:\\Users\\ratho\\Desktop\\MMA subs\\823\\XMMA823_AssignmentData_topost.xlsx')\n"
   ]
  },
  {
   "cell_type": "code",
   "execution_count": 4,
   "metadata": {
    "colab": {
     "base_uri": "https://localhost:8080/",
     "height": 488
    },
    "id": "Qaoz6ZQax8SC",
    "outputId": "2b1e6803-8626-4875-933c-679de00c93b8"
   },
   "outputs": [
    {
     "data": {
      "text/html": [
       "<div>\n",
       "<style scoped>\n",
       "    .dataframe tbody tr th:only-of-type {\n",
       "        vertical-align: middle;\n",
       "    }\n",
       "\n",
       "    .dataframe tbody tr th {\n",
       "        vertical-align: top;\n",
       "    }\n",
       "\n",
       "    .dataframe thead th {\n",
       "        text-align: right;\n",
       "    }\n",
       "</style>\n",
       "<table border=\"1\" class=\"dataframe\">\n",
       "  <thead>\n",
       "    <tr style=\"text-align: right;\">\n",
       "      <th></th>\n",
       "      <th>Date</th>\n",
       "      <th>MMAX</th>\n",
       "      <th>AAPL</th>\n",
       "      <th>AMZN</th>\n",
       "      <th>GOOGL</th>\n",
       "      <th>MCD</th>\n",
       "      <th>GM</th>\n",
       "      <th>TSLA</th>\n",
       "      <th>PFE</th>\n",
       "      <th>SBUX</th>\n",
       "      <th>TWTR</th>\n",
       "      <th>VZ</th>\n",
       "      <th>WYNN</th>\n",
       "      <th>KHC</th>\n",
       "      <th>JNJ</th>\n",
       "      <th>HST</th>\n",
       "      <th>HLT</th>\n",
       "      <th>FDX</th>\n",
       "      <th>DPZ</th>\n",
       "      <th>SP500</th>\n",
       "      <th>DJIA</th>\n",
       "      <th>VIXCLS</th>\n",
       "      <th>DEXJPUS</th>\n",
       "      <th>DEXUSUK</th>\n",
       "      <th>DEXUSEU</th>\n",
       "    </tr>\n",
       "  </thead>\n",
       "  <tbody>\n",
       "    <tr>\n",
       "      <th>0</th>\n",
       "      <td>1</td>\n",
       "      <td>33.482319</td>\n",
       "      <td>34.465744</td>\n",
       "      <td>50.064999</td>\n",
       "      <td>976.619995</td>\n",
       "      <td>137.422821</td>\n",
       "      <td>30.548828</td>\n",
       "      <td>76.522003</td>\n",
       "      <td>26.870838</td>\n",
       "      <td>53.836395</td>\n",
       "      <td>18.150000</td>\n",
       "      <td>36.304821</td>\n",
       "      <td>128.156845</td>\n",
       "      <td>70.984398</td>\n",
       "      <td>119.282982</td>\n",
       "      <td>16.140646</td>\n",
       "      <td>63.823997</td>\n",
       "      <td>199.325455</td>\n",
       "      <td>208.325409</td>\n",
       "      <td>2434.50</td>\n",
       "      <td>21397.29</td>\n",
       "      <td>10.48</td>\n",
       "      <td>111.36</td>\n",
       "      <td>1.2659</td>\n",
       "      <td>1.1148</td>\n",
       "    </tr>\n",
       "    <tr>\n",
       "      <th>1</th>\n",
       "      <td>2</td>\n",
       "      <td>34.008343</td>\n",
       "      <td>34.619576</td>\n",
       "      <td>50.187000</td>\n",
       "      <td>986.090027</td>\n",
       "      <td>137.280762</td>\n",
       "      <td>30.557764</td>\n",
       "      <td>76.690002</td>\n",
       "      <td>26.957619</td>\n",
       "      <td>54.107803</td>\n",
       "      <td>18.500000</td>\n",
       "      <td>36.280846</td>\n",
       "      <td>129.344452</td>\n",
       "      <td>70.785240</td>\n",
       "      <td>119.616119</td>\n",
       "      <td>16.183868</td>\n",
       "      <td>64.019783</td>\n",
       "      <td>202.829193</td>\n",
       "      <td>207.332001</td>\n",
       "      <td>2438.30</td>\n",
       "      <td>21394.76</td>\n",
       "      <td>10.02</td>\n",
       "      <td>111.26</td>\n",
       "      <td>1.2727</td>\n",
       "      <td>1.1196</td>\n",
       "    </tr>\n",
       "    <tr>\n",
       "      <th>2</th>\n",
       "      <td>3</td>\n",
       "      <td>33.785179</td>\n",
       "      <td>34.510723</td>\n",
       "      <td>49.699001</td>\n",
       "      <td>972.090027</td>\n",
       "      <td>136.677109</td>\n",
       "      <td>30.843687</td>\n",
       "      <td>75.498001</td>\n",
       "      <td>26.855061</td>\n",
       "      <td>53.954002</td>\n",
       "      <td>18.290001</td>\n",
       "      <td>36.568604</td>\n",
       "      <td>128.250381</td>\n",
       "      <td>70.856941</td>\n",
       "      <td>119.537193</td>\n",
       "      <td>16.382711</td>\n",
       "      <td>63.853378</td>\n",
       "      <td>202.838623</td>\n",
       "      <td>209.080063</td>\n",
       "      <td>2439.07</td>\n",
       "      <td>21409.55</td>\n",
       "      <td>9.90</td>\n",
       "      <td>111.48</td>\n",
       "      <td>1.2732</td>\n",
       "      <td>1.1196</td>\n",
       "    </tr>\n",
       "    <tr>\n",
       "      <th>3</th>\n",
       "      <td>4</td>\n",
       "      <td>31.489799</td>\n",
       "      <td>34.016071</td>\n",
       "      <td>48.839001</td>\n",
       "      <td>948.090027</td>\n",
       "      <td>136.464066</td>\n",
       "      <td>30.566696</td>\n",
       "      <td>72.473999</td>\n",
       "      <td>26.642052</td>\n",
       "      <td>53.338821</td>\n",
       "      <td>18.120001</td>\n",
       "      <td>35.841225</td>\n",
       "      <td>126.829002</td>\n",
       "      <td>69.717690</td>\n",
       "      <td>118.371109</td>\n",
       "      <td>16.261677</td>\n",
       "      <td>62.110935</td>\n",
       "      <td>201.868484</td>\n",
       "      <td>203.597061</td>\n",
       "      <td>2419.38</td>\n",
       "      <td>21310.66</td>\n",
       "      <td>11.06</td>\n",
       "      <td>112.42</td>\n",
       "      <td>1.2791</td>\n",
       "      <td>1.1300</td>\n",
       "    </tr>\n",
       "    <tr>\n",
       "      <th>4</th>\n",
       "      <td>5</td>\n",
       "      <td>32.023800</td>\n",
       "      <td>34.513088</td>\n",
       "      <td>49.516499</td>\n",
       "      <td>961.010010</td>\n",
       "      <td>136.978943</td>\n",
       "      <td>30.897297</td>\n",
       "      <td>74.248001</td>\n",
       "      <td>26.626272</td>\n",
       "      <td>53.537861</td>\n",
       "      <td>17.950001</td>\n",
       "      <td>35.841225</td>\n",
       "      <td>127.118912</td>\n",
       "      <td>69.964661</td>\n",
       "      <td>117.327789</td>\n",
       "      <td>16.252941</td>\n",
       "      <td>62.022831</td>\n",
       "      <td>204.524536</td>\n",
       "      <td>204.036484</td>\n",
       "      <td>2440.69</td>\n",
       "      <td>21454.61</td>\n",
       "      <td>10.03</td>\n",
       "      <td>112.18</td>\n",
       "      <td>1.2936</td>\n",
       "      <td>1.1364</td>\n",
       "    </tr>\n",
       "    <tr>\n",
       "      <th>...</th>\n",
       "      <td>...</td>\n",
       "      <td>...</td>\n",
       "      <td>...</td>\n",
       "      <td>...</td>\n",
       "      <td>...</td>\n",
       "      <td>...</td>\n",
       "      <td>...</td>\n",
       "      <td>...</td>\n",
       "      <td>...</td>\n",
       "      <td>...</td>\n",
       "      <td>...</td>\n",
       "      <td>...</td>\n",
       "      <td>...</td>\n",
       "      <td>...</td>\n",
       "      <td>...</td>\n",
       "      <td>...</td>\n",
       "      <td>...</td>\n",
       "      <td>...</td>\n",
       "      <td>...</td>\n",
       "      <td>...</td>\n",
       "      <td>...</td>\n",
       "      <td>...</td>\n",
       "      <td>...</td>\n",
       "      <td>...</td>\n",
       "      <td>...</td>\n",
       "    </tr>\n",
       "    <tr>\n",
       "      <th>1136</th>\n",
       "      <td>1137</td>\n",
       "      <td>112.766838</td>\n",
       "      <td>179.836319</td>\n",
       "      <td>169.669495</td>\n",
       "      <td>2958.129883</td>\n",
       "      <td>265.285767</td>\n",
       "      <td>57.430000</td>\n",
       "      <td>1093.939941</td>\n",
       "      <td>58.278038</td>\n",
       "      <td>112.848961</td>\n",
       "      <td>44.330002</td>\n",
       "      <td>51.426659</td>\n",
       "      <td>87.580002</td>\n",
       "      <td>34.707169</td>\n",
       "      <td>167.511383</td>\n",
       "      <td>17.453543</td>\n",
       "      <td>155.113174</td>\n",
       "      <td>255.381592</td>\n",
       "      <td>554.017944</td>\n",
       "      <td>4791.19</td>\n",
       "      <td>36302.38</td>\n",
       "      <td>17.68</td>\n",
       "      <td>114.85</td>\n",
       "      <td>1.3438</td>\n",
       "      <td>1.1329</td>\n",
       "    </tr>\n",
       "    <tr>\n",
       "      <th>1137</th>\n",
       "      <td>1138</td>\n",
       "      <td>112.995125</td>\n",
       "      <td>178.799164</td>\n",
       "      <td>170.660995</td>\n",
       "      <td>2933.739990</td>\n",
       "      <td>264.929749</td>\n",
       "      <td>57.110001</td>\n",
       "      <td>1088.469971</td>\n",
       "      <td>57.106567</td>\n",
       "      <td>114.182762</td>\n",
       "      <td>43.430000</td>\n",
       "      <td>51.465706</td>\n",
       "      <td>86.459999</td>\n",
       "      <td>35.128395</td>\n",
       "      <td>168.182755</td>\n",
       "      <td>17.453543</td>\n",
       "      <td>154.843491</td>\n",
       "      <td>255.570953</td>\n",
       "      <td>554.574707</td>\n",
       "      <td>4786.35</td>\n",
       "      <td>36398.21</td>\n",
       "      <td>17.54</td>\n",
       "      <td>114.75</td>\n",
       "      <td>1.3432</td>\n",
       "      <td>1.1314</td>\n",
       "    </tr>\n",
       "    <tr>\n",
       "      <th>1138</th>\n",
       "      <td>1139</td>\n",
       "      <td>114.146523</td>\n",
       "      <td>178.888916</td>\n",
       "      <td>169.201004</td>\n",
       "      <td>2933.100098</td>\n",
       "      <td>265.533020</td>\n",
       "      <td>57.230000</td>\n",
       "      <td>1086.189941</td>\n",
       "      <td>56.683266</td>\n",
       "      <td>114.983032</td>\n",
       "      <td>42.759998</td>\n",
       "      <td>51.114269</td>\n",
       "      <td>84.980003</td>\n",
       "      <td>35.079414</td>\n",
       "      <td>169.367462</td>\n",
       "      <td>17.453543</td>\n",
       "      <td>155.193085</td>\n",
       "      <td>256.617401</td>\n",
       "      <td>559.178162</td>\n",
       "      <td>4793.06</td>\n",
       "      <td>36488.63</td>\n",
       "      <td>16.95</td>\n",
       "      <td>114.97</td>\n",
       "      <td>1.3475</td>\n",
       "      <td>1.1337</td>\n",
       "    </tr>\n",
       "    <tr>\n",
       "      <th>1139</th>\n",
       "      <td>1140</td>\n",
       "      <td>112.935577</td>\n",
       "      <td>177.712143</td>\n",
       "      <td>168.644501</td>\n",
       "      <td>2924.010010</td>\n",
       "      <td>264.267120</td>\n",
       "      <td>58.130001</td>\n",
       "      <td>1070.339966</td>\n",
       "      <td>57.490494</td>\n",
       "      <td>114.844719</td>\n",
       "      <td>44.459999</td>\n",
       "      <td>51.006889</td>\n",
       "      <td>86.150002</td>\n",
       "      <td>34.932472</td>\n",
       "      <td>170.117798</td>\n",
       "      <td>17.523436</td>\n",
       "      <td>154.803528</td>\n",
       "      <td>257.683777</td>\n",
       "      <td>554.216675</td>\n",
       "      <td>4778.73</td>\n",
       "      <td>36398.08</td>\n",
       "      <td>17.33</td>\n",
       "      <td>115.17</td>\n",
       "      <td>1.3500</td>\n",
       "      <td>1.1318</td>\n",
       "    </tr>\n",
       "    <tr>\n",
       "      <th>1140</th>\n",
       "      <td>1141</td>\n",
       "      <td>NaN</td>\n",
       "      <td>177.083878</td>\n",
       "      <td>166.716995</td>\n",
       "      <td>2897.040039</td>\n",
       "      <td>265.117676</td>\n",
       "      <td>58.630001</td>\n",
       "      <td>1056.780029</td>\n",
       "      <td>58.130367</td>\n",
       "      <td>115.565948</td>\n",
       "      <td>43.220001</td>\n",
       "      <td>50.723785</td>\n",
       "      <td>85.040001</td>\n",
       "      <td>35.167580</td>\n",
       "      <td>168.893585</td>\n",
       "      <td>17.363678</td>\n",
       "      <td>155.812393</td>\n",
       "      <td>257.763519</td>\n",
       "      <td>561.097168</td>\n",
       "      <td>4766.18</td>\n",
       "      <td>36338.30</td>\n",
       "      <td>17.22</td>\n",
       "      <td>0.00</td>\n",
       "      <td>0.0000</td>\n",
       "      <td>0.0000</td>\n",
       "    </tr>\n",
       "  </tbody>\n",
       "</table>\n",
       "<p>1141 rows × 25 columns</p>\n",
       "</div>"
      ],
      "text/plain": [
       "      Date        MMAX        AAPL        AMZN        GOOGL         MCD  \\\n",
       "0        1   33.482319   34.465744   50.064999   976.619995  137.422821   \n",
       "1        2   34.008343   34.619576   50.187000   986.090027  137.280762   \n",
       "2        3   33.785179   34.510723   49.699001   972.090027  136.677109   \n",
       "3        4   31.489799   34.016071   48.839001   948.090027  136.464066   \n",
       "4        5   32.023800   34.513088   49.516499   961.010010  136.978943   \n",
       "...    ...         ...         ...         ...          ...         ...   \n",
       "1136  1137  112.766838  179.836319  169.669495  2958.129883  265.285767   \n",
       "1137  1138  112.995125  178.799164  170.660995  2933.739990  264.929749   \n",
       "1138  1139  114.146523  178.888916  169.201004  2933.100098  265.533020   \n",
       "1139  1140  112.935577  177.712143  168.644501  2924.010010  264.267120   \n",
       "1140  1141         NaN  177.083878  166.716995  2897.040039  265.117676   \n",
       "\n",
       "             GM         TSLA        PFE        SBUX       TWTR         VZ  \\\n",
       "0     30.548828    76.522003  26.870838   53.836395  18.150000  36.304821   \n",
       "1     30.557764    76.690002  26.957619   54.107803  18.500000  36.280846   \n",
       "2     30.843687    75.498001  26.855061   53.954002  18.290001  36.568604   \n",
       "3     30.566696    72.473999  26.642052   53.338821  18.120001  35.841225   \n",
       "4     30.897297    74.248001  26.626272   53.537861  17.950001  35.841225   \n",
       "...         ...          ...        ...         ...        ...        ...   \n",
       "1136  57.430000  1093.939941  58.278038  112.848961  44.330002  51.426659   \n",
       "1137  57.110001  1088.469971  57.106567  114.182762  43.430000  51.465706   \n",
       "1138  57.230000  1086.189941  56.683266  114.983032  42.759998  51.114269   \n",
       "1139  58.130001  1070.339966  57.490494  114.844719  44.459999  51.006889   \n",
       "1140  58.630001  1056.780029  58.130367  115.565948  43.220001  50.723785   \n",
       "\n",
       "            WYNN        KHC         JNJ        HST         HLT         FDX  \\\n",
       "0     128.156845  70.984398  119.282982  16.140646   63.823997  199.325455   \n",
       "1     129.344452  70.785240  119.616119  16.183868   64.019783  202.829193   \n",
       "2     128.250381  70.856941  119.537193  16.382711   63.853378  202.838623   \n",
       "3     126.829002  69.717690  118.371109  16.261677   62.110935  201.868484   \n",
       "4     127.118912  69.964661  117.327789  16.252941   62.022831  204.524536   \n",
       "...          ...        ...         ...        ...         ...         ...   \n",
       "1136   87.580002  34.707169  167.511383  17.453543  155.113174  255.381592   \n",
       "1137   86.459999  35.128395  168.182755  17.453543  154.843491  255.570953   \n",
       "1138   84.980003  35.079414  169.367462  17.453543  155.193085  256.617401   \n",
       "1139   86.150002  34.932472  170.117798  17.523436  154.803528  257.683777   \n",
       "1140   85.040001  35.167580  168.893585  17.363678  155.812393  257.763519   \n",
       "\n",
       "             DPZ    SP500      DJIA  VIXCLS  DEXJPUS  DEXUSUK  DEXUSEU  \n",
       "0     208.325409  2434.50  21397.29   10.48   111.36   1.2659   1.1148  \n",
       "1     207.332001  2438.30  21394.76   10.02   111.26   1.2727   1.1196  \n",
       "2     209.080063  2439.07  21409.55    9.90   111.48   1.2732   1.1196  \n",
       "3     203.597061  2419.38  21310.66   11.06   112.42   1.2791   1.1300  \n",
       "4     204.036484  2440.69  21454.61   10.03   112.18   1.2936   1.1364  \n",
       "...          ...      ...       ...     ...      ...      ...      ...  \n",
       "1136  554.017944  4791.19  36302.38   17.68   114.85   1.3438   1.1329  \n",
       "1137  554.574707  4786.35  36398.21   17.54   114.75   1.3432   1.1314  \n",
       "1138  559.178162  4793.06  36488.63   16.95   114.97   1.3475   1.1337  \n",
       "1139  554.216675  4778.73  36398.08   17.33   115.17   1.3500   1.1318  \n",
       "1140  561.097168  4766.18  36338.30   17.22     0.00   0.0000   0.0000  \n",
       "\n",
       "[1141 rows x 25 columns]"
      ]
     },
     "execution_count": 4,
     "metadata": {},
     "output_type": "execute_result"
    }
   ],
   "source": [
    "df"
   ]
  },
  {
   "cell_type": "code",
   "execution_count": 5,
   "metadata": {
    "colab": {
     "base_uri": "https://localhost:8080/"
    },
    "id": "Bvo6KmlYx8Uy",
    "outputId": "09bcf0a5-3770-4e36-8097-342fee4bb259"
   },
   "outputs": [
    {
     "data": {
      "text/plain": [
       "Date         int64\n",
       "MMAX       float64\n",
       "AAPL       float64\n",
       "AMZN       float64\n",
       "GOOGL      float64\n",
       "MCD        float64\n",
       "GM         float64\n",
       "TSLA       float64\n",
       "PFE        float64\n",
       "SBUX       float64\n",
       "TWTR       float64\n",
       "VZ         float64\n",
       "WYNN       float64\n",
       "KHC        float64\n",
       "JNJ        float64\n",
       "HST        float64\n",
       "HLT        float64\n",
       "FDX        float64\n",
       "DPZ        float64\n",
       "SP500      float64\n",
       "DJIA       float64\n",
       "VIXCLS     float64\n",
       "DEXJPUS    float64\n",
       "DEXUSUK    float64\n",
       "DEXUSEU    float64\n",
       "dtype: object"
      ]
     },
     "execution_count": 5,
     "metadata": {},
     "output_type": "execute_result"
    }
   ],
   "source": [
    "df.shape\n",
    "df.dtypes"
   ]
  },
  {
   "cell_type": "code",
   "execution_count": 6,
   "metadata": {
    "colab": {
     "base_uri": "https://localhost:8080/",
     "height": 558
    },
    "id": "m9qCiMhO0z1y",
    "outputId": "4e05de81-27f4-48f2-b48b-c28a16ea271d"
   },
   "outputs": [
    {
     "data": {
      "image/png": "[encoded data removed]",
      "text/plain": [
       "<Figure size 1152x576 with 1 Axes>"
      ]
     },
     "metadata": {
      "needs_background": "light"
     },
     "output_type": "display_data"
    }
   ],
   "source": [
    "#Visualize the closing price \n",
    "plt.figure(figsize=(16,8))\n",
    "plt.title('MMAX stock performance')\n",
    "plt.plot(df['MMAX'])\n",
    "plt.xlabel('Days', fontsize=18)\n",
    "plt.ylabel('Stock price', fontsize=18)\n",
    "plt.show()"
   ]
  },
  {
   "cell_type": "code",
   "execution_count": 7,
   "metadata": {
    "colab": {
     "base_uri": "https://localhost:8080/"
    },
    "id": "PFymsn_j0yTv",
    "outputId": "ee4d3a73-4c79-4f2e-d881-e2ebf453ecd9"
   },
   "outputs": [
    {
     "data": {
      "text/plain": [
       "912"
      ]
     },
     "execution_count": 7,
     "metadata": {},
     "output_type": "execute_result"
    }
   ],
   "source": [
    "#Create new dataframe for MMAX\n",
    "df.drop(df.tail(1).index,inplace=True)\n",
    "data = df.filter(['MMAX'])\n",
    "\n",
    "\n",
    "#Convert the df to np array \n",
    "dataset = data.values\n",
    "\n",
    "\n",
    "#Define test train dataset\n",
    "training_data_len = math.ceil(len(dataset) * 0.8)\n",
    "training_data_len"
   ]
  },
  {
   "cell_type": "code",
   "execution_count": 8,
   "metadata": {
    "colab": {
     "base_uri": "https://localhost:8080/"
    },
    "id": "R98c-M__13lT",
    "outputId": "8cdb4dea-6623-461e-c7d3-de24519c7712"
   },
   "outputs": [
    {
     "data": {
      "text/plain": [
       "array([[0.09851359],\n",
       "       [0.10439233],\n",
       "       [0.1018983 ],\n",
       "       ...,\n",
       "       [0.98713222],\n",
       "       [1.        ],\n",
       "       [0.98646673]])"
      ]
     },
     "execution_count": 8,
     "metadata": {},
     "output_type": "execute_result"
    }
   ],
   "source": [
    "#Scale the data as data preprocessing step\n",
    "scaler = MinMaxScaler(feature_range= (0,1))\n",
    "scaled_data = scaler.fit_transform(dataset)\n",
    "scaled_data"
   ]
  },
  {
   "cell_type": "code",
   "execution_count": 9,
   "metadata": {
    "colab": {
     "base_uri": "https://localhost:8080/"
    },
    "id": "C1TThMWj13oW",
    "outputId": "29ef8b4e-2106-4c0e-b55b-1f37b974825d"
   },
   "outputs": [
    {
     "name": "stdout",
     "output_type": "stream",
     "text": [
      "[array([0.09851359, 0.10439233, 0.1018983 , 0.07624561, 0.08221349,\n",
      "       0.07090129, 0.0694762 , 0.06805105, 0.07188105, 0.05647164,\n",
      "       0.06457712, 0.06626958, 0.06920896, 0.07793805, 0.06564601,\n",
      "       0.07615651, 0.07232651, 0.07018867, 0.07384075, 0.07544404,\n",
      "       0.07686919, 0.0784724 , 0.02004115, 0.01238099, 0.0143406 ,\n",
      "       0.01478591, 0.01790346, 0.02155538, 0.02200072, 0.02333682,\n",
      "       0.02208987, 0.0225352 , 0.01817068, 0.01469688, 0.0053443 ,\n",
      "       0.01193565, 0.01425148, 0.01184655, 0.01362798, 0.00498802,\n",
      "       0.00374102, 0.00454264, 0.01193565, 0.0005344 , 0.0006235 ,\n",
      "       0.00267217, 0.00480986, 0.00445362, 0.00489894, 0.0051662 ,\n",
      "       0.00757109, 0.01603295, 0.01638921, 0.01238099, 0.00926346,\n",
      "       0.        , 0.00837276, 0.01630017, 0.01514223, 0.0231587 ])]\n",
      "[0.022891544050055]\n",
      "\n"
     ]
    }
   ],
   "source": [
    "#create training dataset\n",
    "#create the scaled training data \n",
    "\n",
    "train_data = scaled_data[0:training_data_len, :]\n",
    "\n",
    "#Split the data into X_train & y_train \n",
    "x_train = []\n",
    "y_train = []\n",
    "\n",
    "for i in range(60, len(train_data)):\n",
    "  x_train.append(train_data[i-60:i, 0])\n",
    "  y_train.append(train_data[i, 0])\n",
    "  if i <= 60:\n",
    "    print(x_train)\n",
    "    print(y_train)\n",
    "    print()"
   ]
  },
  {
   "cell_type": "code",
   "execution_count": 10,
   "metadata": {
    "id": "armblyp913tt"
   },
   "outputs": [],
   "source": [
    "from re import X\n",
    "#Convert x_train & y_train to np array\n",
    "x_train, y_train = np.array(x_train), np.array(y_train)"
   ]
  },
  {
   "cell_type": "code",
   "execution_count": 11,
   "metadata": {
    "id": "kBtuEoxx13wn"
   },
   "outputs": [],
   "source": [
    "#Reshape the data \n",
    "x_train.shape\n",
    "x_train = np.reshape(x_train, (852, 60, 1))\n",
    "\n"
   ]
  },
  {
   "cell_type": "code",
   "execution_count": 12,
   "metadata": {
    "id": "EDSackro13zj"
   },
   "outputs": [],
   "source": [
    "#Build LSTM model \n",
    "model = Sequential()\n",
    "model.add(LSTM(50, return_sequences=True, input_shape=(60,1) ))\n",
    "model.add(LSTM(50, return_sequences=False))\n",
    "model.add(Dense(25))\n",
    "model.add(Dense(1))"
   ]
  },
  {
   "cell_type": "code",
   "execution_count": 13,
   "metadata": {
    "id": "5Us568NH132Y"
   },
   "outputs": [
    {
     "name": "stdout",
     "output_type": "stream",
     "text": [
      "852/852 [==============================] - 18s 17ms/step - loss: 8.3470e-04\n"
     ]
    },
    {
     "data": {
      "text/plain": [
       "<keras.callbacks.History at 0x27340ed8cd0>"
      ]
     },
     "execution_count": 13,
     "metadata": {},
     "output_type": "execute_result"
    }
   ],
   "source": [
    "\n",
    "model.compile(optimizer='adam', loss = 'mean_squared_error')\n",
    "\n",
    "model.fit(x_train, y_train, batch_size=1, epochs=1)"
   ]
  },
  {
   "cell_type": "code",
   "execution_count": null,
   "metadata": {
    "colab": {
     "base_uri": "https://localhost:8080/"
    },
    "id": "h7nrQVSq135d",
    "outputId": "ad826bbd-5e69-42b2-d841-6bd91e3d1124"
   },
   "outputs": [],
   "source": []
  },
  {
   "cell_type": "code",
   "execution_count": 14,
   "metadata": {
    "id": "p0p92xVl137_"
   },
   "outputs": [],
   "source": [
    "#Create the test data set\n",
    "#Create a new arrary values from 852 to 1140\n",
    "\n",
    "test_data = scaled_data[training_data_len-60: , :]\n",
    "\n",
    "\n",
    "#Create the data sets x_test & y_test\n",
    "x_test = []\n",
    "y_test = dataset[training_data_len:, : ]\n",
    "\n",
    "\n",
    "for i in range(60, len(test_data)):\n",
    "  x_test.append(test_data[i-60:i, 0])"
   ]
  },
  {
   "cell_type": "code",
   "execution_count": 15,
   "metadata": {
    "id": "XKzaMuLD14CY"
   },
   "outputs": [],
   "source": [
    "#Convert the data to np array \n",
    "x_test = np.array(x_test)"
   ]
  },
  {
   "cell_type": "code",
   "execution_count": 16,
   "metadata": {
    "id": "8n2eEBDgx8Xe"
   },
   "outputs": [],
   "source": [
    "#Reshape the data \n",
    "x_test = np.reshape(x_test, (x_test.shape[0], x_test.shape[1],1))"
   ]
  },
  {
   "cell_type": "code",
   "execution_count": 17,
   "metadata": {
    "id": "ucAKqhQNx8aU"
   },
   "outputs": [
    {
     "name": "stdout",
     "output_type": "stream",
     "text": [
      "8/8 [==============================] - 1s 12ms/step\n"
     ]
    }
   ],
   "source": [
    "#Predictiions\n",
    "predictions = model.predict(x_test)\n",
    "predictions = scaler.inverse_transform(predictions)"
   ]
  },
  {
   "cell_type": "code",
   "execution_count": 18,
   "metadata": {
    "colab": {
     "base_uri": "https://localhost:8080/"
    },
    "id": "5Gtt8zLbx8dM",
    "outputId": "0f26f2f3-8e39-401f-d368-7f43728bf65f"
   },
   "outputs": [
    {
     "data": {
      "text/plain": [
       "0.953597520527191"
      ]
     },
     "execution_count": 18,
     "metadata": {},
     "output_type": "execute_result"
    }
   ],
   "source": [
    "#RMSE \n",
    "rmse = np.sqrt(np.mean(predictions - y_test)**2 )\n",
    "rmse"
   ]
  },
  {
   "cell_type": "code",
   "execution_count": 19,
   "metadata": {
    "colab": {
     "base_uri": "https://localhost:8080/",
     "height": 662
    },
    "id": "QpiOODu1x8f4",
    "outputId": "a1470b40-1524-41dd-8676-1e4238238cec"
   },
   "outputs": [
    {
     "name": "stderr",
     "output_type": "stream",
     "text": [
      "C:\\Users\\ratho\\AppData\\Local\\Temp\\ipykernel_17876\\1663503083.py:4: SettingWithCopyWarning: \n",
      "A value is trying to be set on a copy of a slice from a DataFrame.\n",
      "Try using .loc[row_indexer,col_indexer] = value instead\n",
      "\n",
      "See the caveats in the documentation: https://pandas.pydata.org/pandas-docs/stable/user_guide/indexing.html#returning-a-view-versus-a-copy\n",
      "  valid['Predictions'] = predictions\n"
     ]
    },
    {
     "data": {
      "image/png": "[encoded data removed]",
      "text/plain": [
       "<Figure size 1152x576 with 1 Axes>"
      ]
     },
     "metadata": {
      "needs_background": "light"
     },
     "output_type": "display_data"
    }
   ],
   "source": [
    "#plot the data \n",
    "train = data[:training_data_len]\n",
    "valid = data[training_data_len:]\n",
    "valid['Predictions'] = predictions\n",
    "\n",
    "#Visualize the data \n",
    "plt.figure(figsize=(16,8))\n",
    "plt.title('Model')\n",
    "plt.xlabel('Date', fontsize=18)\n",
    "plt.ylabel('Performance', fontsize=18)\n",
    "plt.plot(train['MMAX'])\n",
    "plt.plot(valid[['MMAX', 'Predictions' ]])\n",
    "plt.legend(['Train', 'Val', 'Predictions'], loc = 'lower right')\n",
    "plt.show()"
   ]
  },
  {
   "cell_type": "code",
   "execution_count": 20,
   "metadata": {
    "colab": {
     "base_uri": "https://localhost:8080/",
     "height": 424
    },
    "id": "HS10QOdpx8i2",
    "outputId": "c8774017-5e67-4f61-9f77-16e8f2b32fd3"
   },
   "outputs": [
    {
     "data": {
      "text/html": [
       "<div>\n",
       "<style scoped>\n",
       "    .dataframe tbody tr th:only-of-type {\n",
       "        vertical-align: middle;\n",
       "    }\n",
       "\n",
       "    .dataframe tbody tr th {\n",
       "        vertical-align: top;\n",
       "    }\n",
       "\n",
       "    .dataframe thead th {\n",
       "        text-align: right;\n",
       "    }\n",
       "</style>\n",
       "<table border=\"1\" class=\"dataframe\">\n",
       "  <thead>\n",
       "    <tr style=\"text-align: right;\">\n",
       "      <th></th>\n",
       "      <th>MMAX</th>\n",
       "      <th>Predictions</th>\n",
       "    </tr>\n",
       "  </thead>\n",
       "  <tbody>\n",
       "    <tr>\n",
       "      <th>912</th>\n",
       "      <td>66.812370</td>\n",
       "      <td>65.565163</td>\n",
       "    </tr>\n",
       "    <tr>\n",
       "      <th>913</th>\n",
       "      <td>68.707825</td>\n",
       "      <td>66.002716</td>\n",
       "    </tr>\n",
       "    <tr>\n",
       "      <th>914</th>\n",
       "      <td>69.621864</td>\n",
       "      <td>66.797668</td>\n",
       "    </tr>\n",
       "    <tr>\n",
       "      <th>915</th>\n",
       "      <td>68.303711</td>\n",
       "      <td>67.772232</td>\n",
       "    </tr>\n",
       "    <tr>\n",
       "      <th>916</th>\n",
       "      <td>69.718086</td>\n",
       "      <td>68.426025</td>\n",
       "    </tr>\n",
       "    <tr>\n",
       "      <th>...</th>\n",
       "      <td>...</td>\n",
       "      <td>...</td>\n",
       "    </tr>\n",
       "    <tr>\n",
       "      <th>1135</th>\n",
       "      <td>110.593086</td>\n",
       "      <td>107.917450</td>\n",
       "    </tr>\n",
       "    <tr>\n",
       "      <th>1136</th>\n",
       "      <td>112.766838</td>\n",
       "      <td>109.668739</td>\n",
       "    </tr>\n",
       "    <tr>\n",
       "      <th>1137</th>\n",
       "      <td>112.995125</td>\n",
       "      <td>111.570923</td>\n",
       "    </tr>\n",
       "    <tr>\n",
       "      <th>1138</th>\n",
       "      <td>114.146523</td>\n",
       "      <td>113.195915</td>\n",
       "    </tr>\n",
       "    <tr>\n",
       "      <th>1139</th>\n",
       "      <td>112.935577</td>\n",
       "      <td>114.627289</td>\n",
       "    </tr>\n",
       "  </tbody>\n",
       "</table>\n",
       "<p>228 rows × 2 columns</p>\n",
       "</div>"
      ],
      "text/plain": [
       "            MMAX  Predictions\n",
       "912    66.812370    65.565163\n",
       "913    68.707825    66.002716\n",
       "914    69.621864    66.797668\n",
       "915    68.303711    67.772232\n",
       "916    69.718086    68.426025\n",
       "...          ...          ...\n",
       "1135  110.593086   107.917450\n",
       "1136  112.766838   109.668739\n",
       "1137  112.995125   111.570923\n",
       "1138  114.146523   113.195915\n",
       "1139  112.935577   114.627289\n",
       "\n",
       "[228 rows x 2 columns]"
      ]
     },
     "execution_count": 20,
     "metadata": {},
     "output_type": "execute_result"
    }
   ],
   "source": [
    "#Show the valid and predicted prices\n",
    "valid"
   ]
  },
  {
   "cell_type": "code",
   "execution_count": 21,
   "metadata": {
    "colab": {
     "base_uri": "https://localhost:8080/"
    },
    "id": "mem6670Nx8lf",
    "outputId": "93ced62a-dc4e-4ccf-a13b-f2d35f31892b"
   },
   "outputs": [
    {
     "name": "stdout",
     "output_type": "stream",
     "text": [
      "1/1 [==============================] - 0s 21ms/step\n",
      "Predicted value at index 1140 is  [[115.413055]]\n"
     ]
    }
   ],
   "source": [
    "\n",
    "new_df = df.filter(['MMAX'])\n",
    "new_df \n",
    "\n",
    "\n",
    "last_60_days = new_df[-60:].values\n",
    "\n",
    "#Scaled 0-1\n",
    "last_60_days_scaled = scaler.transform(last_60_days)\n",
    "#Create an empty list\n",
    "X_test = []\n",
    "X_test.append(last_60_days_scaled)\n",
    "\n",
    "X_test = np.array(X_test)\n",
    "\n",
    "X_test = np.reshape(X_test, (X_test.shape[0], X_test.shape[1], 1))\n",
    "\n",
    "\n",
    "#get predicted scaled price\n",
    "\n",
    "pred_price = model.predict(X_test)\n",
    "\n",
    "#undo scaling\n",
    "\n",
    "pred_price = scaler.inverse_transform(pred_price)\n",
    "print(\"Predicted value at index 1140 is \", pred_price )"
   ]
  },
  {
   "cell_type": "markdown",
   "metadata": {
    "id": "IMrsdXTVXtlH"
   },
   "source": [
    "print(\"Predicted value at index 1140 is \", pred_price )\n"
   ]
  },
  {
   "cell_type": "code",
   "execution_count": 22,
   "metadata": {
    "id": "3FlhN_2dXwvd"
   },
   "outputs": [
    {
     "name": "stdout",
     "output_type": "stream",
     "text": [
      "Predicted value at index 1140 is  [[115.413055]]\n"
     ]
    }
   ],
   "source": [
    "print(\"Predicted value at index 1140 is \", pred_price )"
   ]
  },
  {
   "cell_type": "code",
   "execution_count": null,
   "metadata": {
    "id": "dh7zpN-yXwyJ"
   },
   "outputs": [],
   "source": []
  },
  {
   "cell_type": "code",
   "execution_count": null,
   "metadata": {
    "id": "lDtC-VCrXw1P"
   },
   "outputs": [],
   "source": []
  },
  {
   "cell_type": "code",
   "execution_count": null,
   "metadata": {
    "id": "mDHeSnugXw4E"
   },
   "outputs": [],
   "source": []
  },
  {
   "cell_type": "code",
   "execution_count": null,
   "metadata": {
    "id": "_pByEjTMXw63"
   },
   "outputs": [],
   "source": []
  },
  {
   "cell_type": "code",
   "execution_count": null,
   "metadata": {
    "id": "taOzEp5VXw9O"
   },
   "outputs": [],
   "source": []
  },
  {
   "cell_type": "code",
   "execution_count": null,
   "metadata": {
    "id": "fYCRLC0tXw_z"
   },
   "outputs": [],
   "source": []
  },
  {
   "cell_type": "code",
   "execution_count": null,
   "metadata": {
    "id": "z7MPMsKxXxCg"
   },
   "outputs": [],
   "source": []
  },
  {
   "cell_type": "code",
   "execution_count": null,
   "metadata": {
    "id": "5ZMw7iEtXxFh"
   },
   "outputs": [],
   "source": []
  },
  {
   "cell_type": "code",
   "execution_count": null,
   "metadata": {
    "id": "62GLrucKXxIP"
   },
   "outputs": [],
   "source": []
  },
  {
   "cell_type": "code",
   "execution_count": null,
   "metadata": {
    "id": "eoOzBrEpXxKl"
   },
   "outputs": [],
   "source": []
  },
  {
   "cell_type": "code",
   "execution_count": null,
   "metadata": {
    "id": "cLggEbYMXxNd"
   },
   "outputs": [],
   "source": []
  }
 ],
 "metadata": {
  "colab": {
   "collapsed_sections": [],
   "name": "Copy of 823 IA.ipynb",
   "provenance": []
  },
  "kernelspec": {
   "display_name": "Python 3 (ipykernel)",
   "language": "python",
   "name": "python3"
  },
  "language_info": {
   "codemirror_mode": {
    "name": "ipython",
    "version": 3
   },
   "file_extension": ".py",
   "mimetype": "text/x-python",
   "name": "python",
   "nbconvert_exporter": "python",
   "pygments_lexer": "ipython3",
   "version": "3.9.12"
  }
 },
 "nbformat": 4,
 "nbformat_minor": 1
}
